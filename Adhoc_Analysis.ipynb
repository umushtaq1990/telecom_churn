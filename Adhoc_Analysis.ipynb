{
 "cells": [
  {
   "cell_type": "markdown",
   "id": "8aa7d612",
   "metadata": {
    "slideshow": {
     "slide_type": "slide"
    }
   },
   "source": [
    "## Telecom Churn Prediction\n",
    "- EDA, Data Cleaning, Visualisations\n",
    "- Feature Engineering\n",
    "- ML Model Training\n",
    "- Hyperparameter Training"
   ]
  },
  {
   "cell_type": "code",
   "execution_count": null,
   "id": "945f4a24",
   "metadata": {},
   "outputs": [],
   "source": [
    "from utilties import *"
   ]
  },
  {
   "cell_type": "code",
   "execution_count": null,
   "id": "ab91e216",
   "metadata": {
    "slideshow": {
     "slide_type": "skip"
    }
   },
   "outputs": [],
   "source": [
    "sns.set()\n",
    "from ipywidgets import interact, interactive, fixed, interact_manual\n",
    "import ipywidgets as widgets\n",
    "import warnings\n",
    "warnings.filterwarnings(\"ignore\")\n",
    "\n",
    "pd.set_option(\"display.max_columns\",None)\n",
    "pd.set_option(\"display.max_rows\",None)\n",
    "pd.set_option('display.width', None)"
   ]
  },
  {
   "cell_type": "code",
   "execution_count": null,
   "id": "8fb26abc",
   "metadata": {
    "slideshow": {
     "slide_type": "skip"
    }
   },
   "outputs": [],
   "source": [
    "import session_info\n",
    "session_info.show()"
   ]
  },
  {
   "cell_type": "markdown",
   "id": "a6f9b2e9",
   "metadata": {
    "slideshow": {
     "slide_type": "slide"
    }
   },
   "source": [
    "## Get Data"
   ]
  },
  {
   "cell_type": "code",
   "execution_count": null,
   "id": "bb749c1f",
   "metadata": {
    "slideshow": {
     "slide_type": "fragment"
    }
   },
   "outputs": [],
   "source": [
    "df = pd.read_excel('data/Data_Science_Task.xlsx', sheet_name='Churn Dataset')\n",
    "df.shape"
   ]
  },
  {
   "cell_type": "code",
   "execution_count": null,
   "id": "53488745",
   "metadata": {
    "slideshow": {
     "slide_type": "skip"
    }
   },
   "outputs": [],
   "source": [
    "X = df.drop(columns='churn')\n",
    "y = df.loc[:, 'churn']\n",
    "X_data, X_val, y_data, y_val = train_test_split(X, y, test_size=0.1,random_state=40, shuffle=True)   # seperate val data set\n",
    "df_val = X_val\n",
    "df_val['churn']=y_val\n",
    "df_data = X_data\n",
    "df_data['churn'] = y_data\n",
    "df_val.to_pickle('data/df_validation.pkl')\n",
    "df_data.to_pickle('data/df_data.pkl')"
   ]
  },
  {
   "cell_type": "code",
   "execution_count": null,
   "id": "ce7fc0ce",
   "metadata": {},
   "outputs": [],
   "source": [
    "df_val"
   ]
  },
  {
   "cell_type": "markdown",
   "id": "2ce39dd6",
   "metadata": {
    "slideshow": {
     "slide_type": "slide"
    }
   },
   "source": [
    "## Seperate Validation Data (10 per of OrignalData)"
   ]
  },
  {
   "cell_type": "code",
   "execution_count": null,
   "id": "39cc4d83",
   "metadata": {
    "slideshow": {
     "slide_type": "fragment"
    }
   },
   "outputs": [],
   "source": [
    "print(df_val.shape)\n",
    "print(df_data.shape)"
   ]
  },
  {
   "cell_type": "code",
   "execution_count": null,
   "id": "56cabc4f",
   "metadata": {
    "scrolled": true,
    "slideshow": {
     "slide_type": "skip"
    }
   },
   "outputs": [],
   "source": [
    "df_data.info()"
   ]
  },
  {
   "cell_type": "markdown",
   "id": "e974cbb3",
   "metadata": {
    "slideshow": {
     "slide_type": "slide"
    }
   },
   "source": [
    "## Get Summary of DF"
   ]
  },
  {
   "cell_type": "code",
   "execution_count": null,
   "id": "ae50b6ff",
   "metadata": {
    "scrolled": true,
    "slideshow": {
     "slide_type": "fragment"
    }
   },
   "outputs": [],
   "source": [
    "Get_Summary_DF(df_data)"
   ]
  },
  {
   "cell_type": "code",
   "execution_count": null,
   "id": "044f2356",
   "metadata": {
    "slideshow": {
     "slide_type": "skip"
    }
   },
   "outputs": [],
   "source": [
    "cat_feats = ['gender', 'SeniorCitizen', 'Product: International', 'Product: Voice mail','Phone Code',\n",
    "             'PaperlessBilling','service calls','churn']\n",
    "num_feats = list(set(df_data.columns)-set(['customerID','Telephone Number', 'US State']+cat_feats))"
   ]
  },
  {
   "cell_type": "markdown",
   "id": "1af01d3d",
   "metadata": {
    "slideshow": {
     "slide_type": "slide"
    }
   },
   "source": [
    "## Numeric & Categorical Feats\n",
    "- 'gender',  'SeniorCitizen', 'Product: International', 'Product: Voice mail','Phone Code','PaperlessBilling','service calls', 'churn'\n",
    "- 'vmail', 'Total, EUR', 'night calls', 'Duration', 'night minutes', 'internatonal EUR', 'international minutes', 'eve minutes', 'Call day minutes', 'eve calls', 'eve EUR', 'night EUR', 'total day calls', 'international calls'"
   ]
  },
  {
   "cell_type": "markdown",
   "id": "cf251043",
   "metadata": {
    "slideshow": {
     "slide_type": "slide"
    }
   },
   "source": [
    "## Other Potential Feats (if possible to get)\n",
    "\n",
    "- Age, Martial_Status,Dependents, \n",
    "- ContractInfo, CreditHistory, PreviousPackages,PaymentMethod,  BillAmount, InternetPackage, \n",
    "- CustomerSurvey, OnlineSecurity \n",
    "- Past History of Each User(Last X Months feats could be generated .eg: num_calls, calls_time, internet_usage, complains etc)"
   ]
  },
  {
   "cell_type": "markdown",
   "id": "890b1f8a",
   "metadata": {
    "slideshow": {
     "slide_type": "slide"
    }
   },
   "source": [
    "## Check Churn Feature"
   ]
  },
  {
   "cell_type": "code",
   "execution_count": null,
   "id": "de89bcc1",
   "metadata": {
    "slideshow": {
     "slide_type": "fragment"
    }
   },
   "outputs": [],
   "source": [
    "fig, (axes) = plt.subplots(2,1, figsize=(12,10))\n",
    "fig.subplots_adjust(wspace=0.2, hspace=0.6)\n",
    "Plot_Bar_Mit_Num_Per(df_data, 'churn', axes[0], 'Churn')\n",
    "fig.delaxes(axes[1])"
   ]
  },
  {
   "cell_type": "markdown",
   "id": "2bc5eb34",
   "metadata": {
    "slideshow": {
     "slide_type": "slide"
    }
   },
   "source": [
    "## Numeric Feats Correlation"
   ]
  },
  {
   "cell_type": "code",
   "execution_count": null,
   "id": "9526cec6",
   "metadata": {
    "scrolled": true,
    "slideshow": {
     "slide_type": "fragment"
    }
   },
   "outputs": [],
   "source": [
    "sns.heatmap(df[num_feats].corr())"
   ]
  },
  {
   "cell_type": "markdown",
   "id": "0a1b3a1b",
   "metadata": {
    "slideshow": {
     "slide_type": "slide"
    }
   },
   "source": [
    "**Directly Dependent Feats** \n",
    "- 'Total EUR'  -> 'Call day minutes'\n",
    "- 'eve EUR' -> 'eve minutes'\n",
    "- 'night EUR' -> 'night_minutes'\n",
    "- 'internatonal EUR' -> 'international_minutes' \n",
    "\n",
    "let's drop them:"
   ]
  },
  {
   "cell_type": "code",
   "execution_count": null,
   "id": "fba34206",
   "metadata": {
    "slideshow": {
     "slide_type": "subslide"
    }
   },
   "outputs": [],
   "source": [
    "num_feats = list(set(num_feats)-set(['Total, EUR', 'eve EUR', 'night EUR', 'internatonal EUR']))\n",
    "corr_matrix = df[num_feats].corr()\n",
    "sns.heatmap(corr_matrix);"
   ]
  },
  {
   "cell_type": "markdown",
   "id": "4518ce33",
   "metadata": {
    "slideshow": {
     "slide_type": "slide"
    }
   },
   "source": [
    "## Box Plot to See Numeric Feats Distribution wrt Churn Feats"
   ]
  },
  {
   "cell_type": "code",
   "execution_count": null,
   "id": "5853e7e1",
   "metadata": {
    "scrolled": true,
    "slideshow": {
     "slide_type": "fragment"
    }
   },
   "outputs": [],
   "source": [
    "fig, axes = plt.subplots(nrows=5, ncols=2, figsize=(10,16))\n",
    "for idx, feat in enumerate(num_feats):\n",
    "    ax = axes[int(idx / 2), idx % 2]\n",
    "    sns.boxplot(x='churn', y = feat, data=df_data, ax=ax)\n",
    "    ax.set_xlabel('')\n",
    "    ax.set_ylabel(feat)\n",
    "fig.tight_layout();"
   ]
  },
  {
   "cell_type": "markdown",
   "id": "79d71d2e",
   "metadata": {
    "slideshow": {
     "slide_type": "subslide"
    }
   },
   "source": [
    "- Call day minutes and vmail shows interesting trend"
   ]
  },
  {
   "cell_type": "markdown",
   "id": "e379a6db",
   "metadata": {
    "slideshow": {
     "slide_type": "slide"
    }
   },
   "source": [
    "## Distribution trend for individual Numeric Feats"
   ]
  },
  {
   "cell_type": "code",
   "execution_count": null,
   "id": "7ac75091",
   "metadata": {
    "scrolled": false,
    "slideshow": {
     "slide_type": "fragment"
    }
   },
   "outputs": [],
   "source": [
    "@interact( feature = list(num_feats))\n",
    "def Inter_Plot_Num_Churn(feature):\n",
    "    Numeric_Distribution_Plot(df_data, feature,'churn' )"
   ]
  },
  {
   "cell_type": "markdown",
   "id": "1805cb09",
   "metadata": {
    "slideshow": {
     "slide_type": "slide"
    }
   },
   "source": [
    "## Categorical Features wrt Churn Feat"
   ]
  },
  {
   "cell_type": "code",
   "execution_count": null,
   "id": "8a550ddc",
   "metadata": {
    "scrolled": true,
    "slideshow": {
     "slide_type": "fragment"
    }
   },
   "outputs": [],
   "source": [
    "fig, axes = plt.subplots(nrows=4, ncols=2, figsize=(12,8))\n",
    "for idx, feat in enumerate(cat_feats):\n",
    "    ax = axes[int(idx / 2), idx % 2]\n",
    "    sns.countplot(x=feat, hue = 'churn', data=df_data, ax=ax)\n",
    "    ax.set_xlabel('')\n",
    "    ax.set_ylabel(feat)"
   ]
  },
  {
   "cell_type": "code",
   "execution_count": null,
   "id": "a7ca3ca8",
   "metadata": {
    "scrolled": true,
    "slideshow": {
     "slide_type": "subslide"
    }
   },
   "outputs": [],
   "source": [
    "Per_Stacked_Bar_Plot_Cat_Feats(cat_feats, 'Churn Rate')"
   ]
  },
  {
   "cell_type": "markdown",
   "id": "1644f62e",
   "metadata": {
    "slideshow": {
     "slide_type": "fragment"
    }
   },
   "source": [
    "- 'Product International' , 'service calls' column shows interesting result"
   ]
  },
  {
   "cell_type": "markdown",
   "id": "8d0a6bd6",
   "metadata": {
    "slideshow": {
     "slide_type": "slide"
    }
   },
   "source": [
    "## Distribution trend for individual Categorical Feats"
   ]
  },
  {
   "cell_type": "code",
   "execution_count": null,
   "id": "0563e365",
   "metadata": {
    "slideshow": {
     "slide_type": "fragment"
    }
   },
   "outputs": [],
   "source": [
    "@interact( feature = cat_feats)\n",
    "def Inter_Plot_Cat_Churn(feature):\n",
    "    Plot_Cat_Col(df_data, feature,'churn')"
   ]
  },
  {
   "cell_type": "markdown",
   "id": "35fde423",
   "metadata": {
    "slideshow": {
     "slide_type": "slide"
    }
   },
   "source": [
    "## Churn Analysis wrt States"
   ]
  },
  {
   "cell_type": "code",
   "execution_count": null,
   "id": "a848198d",
   "metadata": {
    "scrolled": true,
    "slideshow": {
     "slide_type": "fragment"
    }
   },
   "outputs": [],
   "source": [
    "pd.crosstab(df_data['US State'], df_data['churn'])"
   ]
  },
  {
   "cell_type": "code",
   "execution_count": null,
   "id": "9d1912e0",
   "metadata": {
    "slideshow": {
     "slide_type": "fragment"
    }
   },
   "outputs": [],
   "source": [
    "churn_state = df_data.groupby(['US State'])['churn'].agg([np.mean]).sort_values(by='mean', ascending=False)\n",
    "churn_state.plot.bar(title = \"Percentage Churn wrt States\", figsize=(16,6))\n",
    "plt.show()"
   ]
  },
  {
   "cell_type": "markdown",
   "id": "a395392d",
   "metadata": {
    "scrolled": true,
    "slideshow": {
     "slide_type": "subslide"
    }
   },
   "source": [
    "## Facts Churn wrt States\n",
    "- churn rate in New Jersey and California are above 25% and less than 6% for Hawaii and Alaska. \n",
    "- However small dataset is problem to get better insight"
   ]
  },
  {
   "cell_type": "markdown",
   "id": "843427a2",
   "metadata": {
    "slideshow": {
     "slide_type": "slide"
    }
   },
   "source": [
    "## Categorical Feat importance with Mutual_Information Score"
   ]
  },
  {
   "cell_type": "code",
   "execution_count": null,
   "id": "cf4a2c7b",
   "metadata": {
    "slideshow": {
     "slide_type": "fragment"
    }
   },
   "outputs": [],
   "source": [
    "def Compute_Mutual_Info(CAT_SERIES):\n",
    "    return mutual_info_score(CAT_SERIES, df_data.churn)\n",
    "\n",
    "categorical_variables = df_data[cat_feats].drop('churn', axis=1)\n",
    "feature_importance = categorical_variables.apply(Compute_Mutual_Info).sort_values(ascending=False)\n",
    "print(feature_importance)"
   ]
  },
  {
   "cell_type": "markdown",
   "id": "37b5339d",
   "metadata": {
    "slideshow": {
     "slide_type": "slide"
    }
   },
   "source": [
    "## Prepare Data \n",
    "- Map Categorical Feats\n",
    "- Scale numeric Feats"
   ]
  },
  {
   "cell_type": "code",
   "execution_count": null,
   "id": "c570d2cc",
   "metadata": {
    "scrolled": true,
    "slideshow": {
     "slide_type": "subslide"
    }
   },
   "outputs": [],
   "source": [
    "df_all_data = df_data[num_feats+cat_feats]\n",
    "df_all_data = Convert_Cat_Feats(df_all_data)\n",
    "df_all_data = Scale_Num_Feats_Train(df_all_data, num_feats)  # save max, min values in config file for pred use cases\n",
    "df_all_data"
   ]
  },
  {
   "cell_type": "markdown",
   "id": "b0d66f7d",
   "metadata": {
    "slideshow": {
     "slide_type": "slide"
    }
   },
   "source": [
    "## Try Following Models to see performance\n",
    "\n",
    "- 'dummy_classifier'\n",
    "- 'k_nearest_neighbors'\n",
    "- 'logistic_regression'\n",
    "- 'support_vector_machines'\n",
    "- 'random_forest'\n",
    "- 'gradient_boosting'"
   ]
  },
  {
   "cell_type": "code",
   "execution_count": null,
   "id": "3026762d",
   "metadata": {
    "slideshow": {
     "slide_type": "skip"
    }
   },
   "outputs": [],
   "source": [
    "X = df_all_data.drop(columns='churn')\n",
    "y = df_all_data.loc[:, 'churn']\n",
    "print(X.columns)\n",
    "print(y.name)\n",
    "X_train, X_test, y_train, y_test = train_test_split(X, y, test_size=0.25,random_state=40, shuffle=True)"
   ]
  },
  {
   "cell_type": "code",
   "execution_count": null,
   "id": "74e5ef6f",
   "metadata": {
    "slideshow": {
     "slide_type": "skip"
    }
   },
   "outputs": [],
   "source": [
    "models = create_models()"
   ]
  },
  {
   "cell_type": "code",
   "execution_count": null,
   "id": "2a5a90a4",
   "metadata": {
    "slideshow": {
     "slide_type": "subslide"
    }
   },
   "outputs": [],
   "source": [
    "# test the accuracy of each model using default hyperparameters\n",
    "results = []\n",
    "names = []\n",
    "scoring = 'accuracy'\n",
    "for name, model in models:\n",
    "    model.fit(X_train, y_train).predict(X_test)\n",
    "    predictions = model.predict(X_test)\n",
    "    accuracy = accuracy_score(y_test, predictions)\n",
    "    results.append(accuracy)\n",
    "    names.append(name)\n",
    "    print('Classifier: {}, Accuracy: {})'.format(name, accuracy))"
   ]
  },
  {
   "cell_type": "markdown",
   "id": "3c86f8f0",
   "metadata": {
    "slideshow": {
     "slide_type": "fragment"
    }
   },
   "source": [
    "### RF and Gradient Boosting Model shows interesting results"
   ]
  },
  {
   "cell_type": "markdown",
   "id": "9018a7ae",
   "metadata": {
    "slideshow": {
     "slide_type": "slide"
    }
   },
   "source": [
    "## Default RF Model"
   ]
  },
  {
   "cell_type": "code",
   "execution_count": null,
   "id": "1807d97d",
   "metadata": {
    "scrolled": true,
    "slideshow": {
     "slide_type": "fragment"
    }
   },
   "outputs": [],
   "source": [
    "# Running the random forest with default parameters\n",
    "rfc = RandomForestClassifier(class_weight = 'balanced',random_state=100,n_jobs = -1)\n",
    "rfc.fit(X_train,y_train)\n",
    "Get_ROC(rfc, X_test, y_test)"
   ]
  },
  {
   "cell_type": "markdown",
   "id": "c0db997c",
   "metadata": {
    "slideshow": {
     "slide_type": "slide"
    }
   },
   "source": [
    "## Hyperparameter Tuning for RF Model "
   ]
  },
  {
   "cell_type": "markdown",
   "id": "7c0f3b3e",
   "metadata": {
    "slideshow": {
     "slide_type": "fragment"
    }
   },
   "source": [
    "## Tune individual Parameters of RF Model\n",
    "- max_depth\n",
    "- n_estimators\n",
    "- min_samples_split\n",
    "- min_samples_leaf\n",
    "- max_features"
   ]
  },
  {
   "cell_type": "code",
   "execution_count": null,
   "id": "285b1feb",
   "metadata": {
    "scrolled": true,
    "slideshow": {
     "slide_type": "subslide"
    }
   },
   "outputs": [],
   "source": [
    "Tune_Single_Parameter(X_train, y_train, PAR_NAME= 'max_depth', \n",
    "                      PARAMETER={'max_depth': range(2, 25, 1)}, N_FOLD=5, TARGET=\"precision\")\n",
    "Tune_Single_Parameter(X_train, y_train, PAR_NAME= 'n_estimators', \n",
    "                      PARAMETER={'n_estimators': [10,25,50,75,100]}, N_FOLD=5, TARGET=\"precision\")\n",
    "Tune_Single_Parameter(X_train, y_train, PAR_NAME= 'min_samples_split', \n",
    "                      PARAMETER={'min_samples_split': range(10,200,10)}, N_FOLD=5, TARGET=\"precision\")\n",
    "Tune_Single_Parameter(X_train, y_train, PAR_NAME= 'min_samples_leaf', \n",
    "                      PARAMETER={'min_samples_leaf': range(10,200,10)}, N_FOLD=3, TARGET=\"precision\")\n",
    "Tune_Single_Parameter(X_train, y_train, PAR_NAME= 'max_features', \n",
    "                      PARAMETER={'max_features': range(5,16,3)}, N_FOLD=3, TARGET=\"precision\")"
   ]
  },
  {
   "cell_type": "markdown",
   "id": "44133887",
   "metadata": {
    "slideshow": {
     "slide_type": "slide"
    }
   },
   "source": [
    "## Find Best Hyper Parameters for RF Model"
   ]
  },
  {
   "cell_type": "code",
   "execution_count": null,
   "id": "71a6959b",
   "metadata": {
    "slideshow": {
     "slide_type": "fragment"
    }
   },
   "outputs": [],
   "source": [
    "param_grid = {\n",
    "    'max_depth': [10,13,15,17,20],\n",
    "    'min_samples_split': [5,10,15], \n",
    "    'min_samples_leaf': [5,8,11,14,17] }\n",
    "\n",
    "rf = RandomForestClassifier(class_weight = 'balanced',random_state=100)\n",
    "grid_search = GridSearchCV(estimator = rf, param_grid = param_grid, #scoring='precision',\n",
    "                          cv = 3, n_jobs = -1,verbose = 1,return_train_score=True)\n",
    "\n",
    "grid_search.fit(X_train, y_train)\n",
    "print(grid_search.best_score_)\n",
    "print(grid_search.best_params_)\n",
    "print('We can get accuracy of',grid_search.best_score_,'using',grid_search.best_params_)"
   ]
  },
  {
   "cell_type": "markdown",
   "id": "c0aea698",
   "metadata": {
    "slideshow": {
     "slide_type": "subslide"
    }
   },
   "source": [
    "## Train RF Model With Best Parameters"
   ]
  },
  {
   "cell_type": "code",
   "execution_count": null,
   "id": "b216826f",
   "metadata": {
    "slideshow": {
     "slide_type": "fragment"
    }
   },
   "outputs": [],
   "source": [
    "rfc = RandomForestClassifier(bootstrap=True,random_state=100,\n",
    "                             max_depth=grid_search.best_params_['max_depth'],\n",
    "                             min_samples_split=grid_search.best_params_['min_samples_split'],\n",
    "                              class_weight='balanced')\n",
    "rfc.fit(X_train,y_train)\n",
    "Get_ROC(rfc, X_test, y_test)"
   ]
  },
  {
   "cell_type": "markdown",
   "id": "a32332d3",
   "metadata": {
    "slideshow": {
     "slide_type": "fragment"
    }
   },
   "source": [
    "## Hyperparameter Tuning Increased\n",
    "- Accuray increase\n",
    "- AUC increase\n",
    "- Recall increase"
   ]
  },
  {
   "cell_type": "markdown",
   "id": "ff3292fb",
   "metadata": {
    "slideshow": {
     "slide_type": "slide"
    }
   },
   "source": [
    "## RF Model Feat Importance"
   ]
  },
  {
   "cell_type": "code",
   "execution_count": null,
   "id": "f806ee96",
   "metadata": {
    "slideshow": {
     "slide_type": "fragment"
    }
   },
   "outputs": [],
   "source": [
    "Get_RF_Model_Feat_Importance(rfc, X_train.columns, 17)"
   ]
  },
  {
   "cell_type": "markdown",
   "id": "6201ef53",
   "metadata": {
    "slideshow": {
     "slide_type": "slide"
    }
   },
   "source": [
    "## Save Model as Pickle File"
   ]
  },
  {
   "cell_type": "code",
   "execution_count": null,
   "id": "315fb6e2",
   "metadata": {
    "slideshow": {
     "slide_type": "fragment"
    }
   },
   "outputs": [],
   "source": [
    "pickle.dump(rfc, open(f'model/RF_V001.pkl', 'wb'))"
   ]
  },
  {
   "cell_type": "markdown",
   "id": "95c852d8",
   "metadata": {
    "slideshow": {
     "slide_type": "slide"
    }
   },
   "source": [
    "## Get Predictions for New Data Point"
   ]
  },
  {
   "cell_type": "code",
   "execution_count": 1,
   "id": "30d9f98f",
   "metadata": {
    "slideshow": {
     "slide_type": "skip"
    }
   },
   "outputs": [],
   "source": [
    "from get_pred import Main_Pred"
   ]
  },
  {
   "cell_type": "code",
   "execution_count": 2,
   "id": "82c8b39b",
   "metadata": {
    "scrolled": true,
    "slideshow": {
     "slide_type": "fragment"
    }
   },
   "outputs": [
    {
     "name": "stdout",
     "output_type": "stream",
     "text": [
      "df       customerID gender  SeniorCitizen US State  Duration  Phone Code  \\\n",
      "1994  8022-BECSI   Male              0       MD        84         510   \n",
      "\n",
      "     Telephone Number Product: International Product: Voice mail  vmail  ...  \\\n",
      "1994         369-2899                     no                  no      0  ...   \n",
      "\n",
      "      eve EUR  night minutes  night calls  night EUR  international minutes  \\\n",
      "1994     13.4           98.2           70       4.42                   10.6   \n",
      "\n",
      "      international calls  internatonal EUR  service calls  PaperlessBilling  \\\n",
      "1994                    7              2.86              0                No   \n",
      "\n",
      "      churn  \n",
      "1994  False  \n",
      "\n",
      "[1 rows x 25 columns]\n",
      "            vmail  eve calls  night calls  eve minutes  international minutes  \\\n",
      "customerID                                                                      \n",
      "8022-BECSI    0.0   0.552941     0.260563      0.43416                   0.53   \n",
      "\n",
      "            Call day minutes  international calls  Duration  night minutes  \\\n",
      "customerID                                                                   \n",
      "8022-BECSI          0.484286             0.368421  0.342975       0.202151   \n",
      "\n",
      "            total day calls  gender  SeniorCitizen  Product: International  \\\n",
      "customerID                                                                   \n",
      "8022-BECSI         0.581818       1              0                       0   \n",
      "\n",
      "            Product: Voice mail  Phone Code  PaperlessBilling  service calls  \n",
      "customerID                                                                    \n",
      "8022-BECSI                    0           2                 0              0  \n"
     ]
    },
    {
     "name": "stderr",
     "output_type": "stream",
     "text": [
      "C:\\Users\\MushtaqUsman\\Anaconda3\\lib\\site-packages\\sklearn\\base.py:493: FutureWarning: The feature names should match those that were passed during fit. Starting version 1.2, an error will be raised.\n",
      "Feature names must be in the same order as they were in fit.\n",
      "\n",
      "  warnings.warn(message, FutureWarning)\n"
     ]
    },
    {
     "data": {
      "text/html": [
       "<div>\n",
       "<style scoped>\n",
       "    .dataframe tbody tr th:only-of-type {\n",
       "        vertical-align: middle;\n",
       "    }\n",
       "\n",
       "    .dataframe tbody tr th {\n",
       "        vertical-align: top;\n",
       "    }\n",
       "\n",
       "    .dataframe thead th {\n",
       "        text-align: right;\n",
       "    }\n",
       "</style>\n",
       "<table border=\"1\" class=\"dataframe\">\n",
       "  <thead>\n",
       "    <tr style=\"text-align: right;\">\n",
       "      <th></th>\n",
       "      <th>Prob</th>\n",
       "      <th>ID</th>\n",
       "    </tr>\n",
       "  </thead>\n",
       "  <tbody>\n",
       "    <tr>\n",
       "      <th>0</th>\n",
       "      <td>7</td>\n",
       "      <td>8022-BECSI</td>\n",
       "    </tr>\n",
       "  </tbody>\n",
       "</table>\n",
       "</div>"
      ],
      "text/plain": [
       "   Prob          ID\n",
       "0     7  8022-BECSI"
      ]
     },
     "execution_count": 2,
     "metadata": {},
     "output_type": "execute_result"
    }
   ],
   "source": [
    "Main_Pred('8022-BECSI')"
   ]
  },
  {
   "cell_type": "code",
   "execution_count": null,
   "id": "2cf532f5",
   "metadata": {},
   "outputs": [],
   "source": []
  }
 ],
 "metadata": {
  "celltoolbar": "Slideshow",
  "kernelspec": {
   "display_name": "Python 3 (ipykernel)",
   "language": "python",
   "name": "python3"
  },
  "language_info": {
   "codemirror_mode": {
    "name": "ipython",
    "version": 3
   },
   "file_extension": ".py",
   "mimetype": "text/x-python",
   "name": "python",
   "nbconvert_exporter": "python",
   "pygments_lexer": "ipython3",
   "version": "3.9.12"
  }
 },
 "nbformat": 4,
 "nbformat_minor": 5
}
